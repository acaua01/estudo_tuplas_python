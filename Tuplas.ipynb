{
 "cells": [
  {
   "cell_type": "markdown",
   "id": "d5e21a1d",
   "metadata": {},
   "source": [
    "# Tuplas"
   ]
  },
  {
   "cell_type": "code",
   "execution_count": 2,
   "id": "117b3b0e",
   "metadata": {},
   "outputs": [
    {
     "name": "stdout",
     "output_type": "stream",
     "text": [
      "(1, 'a', 7.6)\n"
     ]
    }
   ],
   "source": [
    "# criando uma tupla - alocando memória para uma tupla\n",
    "\n",
    "a = (1, \"a\", 7.6)\n",
    "print(a)"
   ]
  },
  {
   "cell_type": "code",
   "execution_count": 6,
   "id": "1a3aeeb6",
   "metadata": {},
   "outputs": [
    {
     "name": "stdout",
     "output_type": "stream",
     "text": [
      "a\n"
     ]
    }
   ],
   "source": [
    "# Acessando uma tupla\n",
    "\n",
    "print(a[1]) # acessando o segundo elemento da tupla"
   ]
  },
  {
   "cell_type": "code",
   "execution_count": 7,
   "id": "afaa733f",
   "metadata": {},
   "outputs": [
    {
     "ename": "TypeError",
     "evalue": "'tuple' object does not support item assignment",
     "output_type": "error",
     "traceback": [
      "\u001b[1;31m---------------------------------------------------------------------------\u001b[0m",
      "\u001b[1;31mTypeError\u001b[0m                                 Traceback (most recent call last)",
      "Cell \u001b[1;32mIn[7], line 3\u001b[0m\n\u001b[0;32m      1\u001b[0m \u001b[38;5;66;03m# Modificando um elemento de uma tupla\u001b[39;00m\n\u001b[1;32m----> 3\u001b[0m a[\u001b[38;5;241m2\u001b[39m] \u001b[38;5;241m=\u001b[39m \u001b[38;5;241m16\u001b[39m\n",
      "\u001b[1;31mTypeError\u001b[0m: 'tuple' object does not support item assignment"
     ]
    }
   ],
   "source": [
    "# Modificando um elemento de uma tupla\n",
    "\n",
    "a[2] = 16"
   ]
  },
  {
   "cell_type": "code",
   "execution_count": 8,
   "id": "26c7cfe0",
   "metadata": {},
   "outputs": [
    {
     "name": "stdout",
     "output_type": "stream",
     "text": [
      "(1, 'a', 16)\n"
     ]
    }
   ],
   "source": [
    "# Modificando uma tupla 2\n",
    "\n",
    "a = (1, 'a', 16)\n",
    "print(a)"
   ]
  },
  {
   "cell_type": "code",
   "execution_count": null,
   "id": "b450520b",
   "metadata": {},
   "outputs": [],
   "source": []
  }
 ],
 "metadata": {
  "kernelspec": {
   "display_name": "Python 3 (ipykernel)",
   "language": "python",
   "name": "python3"
  },
  "language_info": {
   "codemirror_mode": {
    "name": "ipython",
    "version": 3
   },
   "file_extension": ".py",
   "mimetype": "text/x-python",
   "name": "python",
   "nbconvert_exporter": "python",
   "pygments_lexer": "ipython3",
   "version": "3.10.9"
  }
 },
 "nbformat": 4,
 "nbformat_minor": 5
}
